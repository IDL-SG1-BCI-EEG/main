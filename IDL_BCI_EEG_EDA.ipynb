{
  "nbformat": 4,
  "nbformat_minor": 0,
  "metadata": {
    "colab": {
      "provenance": []
    },
    "kernelspec": {
      "name": "python3",
      "display_name": "Python 3"
    },
    "language_info": {
      "name": "python"
    },
    "gpuClass": "standard"
  },
  "cells": [
    {
      "cell_type": "markdown",
      "source": [
        "# **IDL Project: Predicting BCI_EEG signals using Deep Learning**"
      ],
      "metadata": {
        "id": "gKmE7gECKOzR"
      }
    },
    {
      "cell_type": "code",
      "source": [
        "!pip install wandb --quiet\n",
        "import os\n",
        "\n",
        "import torch\n",
        "import torch.nn as nn\n",
        "from torchsummary import summary\n",
        "import torchvision\n",
        "\n",
        "import gc\n",
        "from tqdm import tqdm\n",
        "from PIL import Image\n",
        "import numpy as np\n",
        "import pandas as pd\n",
        "import glob\n",
        "import wandb\n",
        "import matplotlib.pyplot as plt\n",
        "import multiprocessing as mp\n",
        "import scipy"
      ],
      "metadata": {
        "id": "kVGiRP5bYDBI",
        "outputId": "4992ed0c-c0fe-4d57-a668-313d7e92bd50",
        "colab": {
          "base_uri": "https://localhost:8080/"
        }
      },
      "execution_count": 1,
      "outputs": [
        {
          "output_type": "stream",
          "name": "stdout",
          "text": [
            "\u001b[2K     \u001b[90m━━━━━━━━━━━━━━━━━━━━━━━━━━━━━━━━━━━━━━━━\u001b[0m \u001b[32m2.0/2.0 MB\u001b[0m \u001b[31m30.2 MB/s\u001b[0m eta \u001b[36m0:00:00\u001b[0m\n",
            "\u001b[2K     \u001b[90m━━━━━━━━━━━━━━━━━━━━━━━━━━━━━━━━━━━━━━\u001b[0m \u001b[32m189.1/189.1 KB\u001b[0m \u001b[31m12.5 MB/s\u001b[0m eta \u001b[36m0:00:00\u001b[0m\n",
            "\u001b[?25h  Preparing metadata (setup.py) ... \u001b[?25l\u001b[?25hdone\n",
            "\u001b[2K     \u001b[90m━━━━━━━━━━━━━━━━━━━━━━━━━━━━━━━━━━━━━━━\u001b[0m \u001b[32m184.3/184.3 KB\u001b[0m \u001b[31m8.6 MB/s\u001b[0m eta \u001b[36m0:00:00\u001b[0m\n",
            "\u001b[2K     \u001b[90m━━━━━━━━━━━━━━━━━━━━━━━━━━━━━━━━━━━━━━━━\u001b[0m \u001b[32m62.7/62.7 KB\u001b[0m \u001b[31m3.4 MB/s\u001b[0m eta \u001b[36m0:00:00\u001b[0m\n",
            "\u001b[?25h  Building wheel for pathtools (setup.py) ... \u001b[?25l\u001b[?25hdone\n"
          ]
        }
      ]
    },
    {
      "cell_type": "code",
      "source": [
        "DEVICE = 'cuda' if torch.cuda.is_available() else 'cpu'\n",
        "print(\"Device: \", DEVICE)"
      ],
      "metadata": {
        "id": "TtoiA-dzM9TX",
        "outputId": "cf2ad9a0-c21a-4359-bf95-21f86788bbb3",
        "colab": {
          "base_uri": "https://localhost:8080/"
        }
      },
      "execution_count": 2,
      "outputs": [
        {
          "output_type": "stream",
          "name": "stdout",
          "text": [
            "Device:  cpu\n"
          ]
        }
      ]
    },
    {
      "cell_type": "code",
      "execution_count": 3,
      "metadata": {
        "colab": {
          "base_uri": "https://localhost:8080/",
          "height": 108
        },
        "id": "MaPGcjXcREnk",
        "outputId": "55a365ae-9e09-4780-b00c-17bd854b2678"
      },
      "outputs": [
        {
          "output_type": "stream",
          "name": "stdout",
          "text": [
            "BCI_EEG_data.zip    100%[===================>]   4.84G  12.7MB/s    in 7m 47s  \n"
          ]
        },
        {
          "output_type": "execute_result",
          "data": {
            "text/plain": [
              "'\\nOriginal Data From:\\n *https://figshare.com/articles/online_resource/Shared_data_for_exploring_training_effect_in_42_human_subjects_using_a_noninvasive_sensorimotor_rhythm-based_online_BCI/7959572*\\n'"
            ],
            "application/vnd.google.colaboratory.intrinsic+json": {
              "type": "string"
            }
          },
          "metadata": {},
          "execution_count": 3
        }
      ],
      "source": [
        "# Get BCI_EEG Data \n",
        "!mkdir /content/bci_data\n",
        "!wget -q https://cmu.box.com/shared/static/dje4whisfwszhe2vvfphvahzr563kp2x.zip --content-disposition --show-progress\n",
        "!unzip -qo 'BCI_EEG_data.zip' -d '/content/bci_data'\n",
        "\n",
        "\"\"\"\n",
        "Original Data From:\n",
        " *https://figshare.com/articles/online_resource/Shared_data_for_exploring_training_effect_in_42_human_subjects_using_a_noninvasive_sensorimotor_rhythm-based_online_BCI/7959572*\n",
        "\"\"\""
      ]
    },
    {
      "cell_type": "markdown",
      "source": [
        "# **EDA**\n",
        "\n",
        "---\n",
        "...Each file includes the online results from the BCI experimentation for each run (saved in a cell variable ‘BCI_UseResults’), key parameters for the experiment (saved in a structure ‘Experiment_Parm’), key parameters for the state of the raw EEG signal (saved in a structure ‘Experimental_states’), and the raw EEG signal (saved in a variable ‘output_data’).\n",
        "\n",
        "The raw EEG signals for experiments one and two are composed of 62 channels of EEG data with a sampling frequency of 100Hz, while data for experiment three contains 64 channels of EEG sampled at 128Hz..."
      ],
      "metadata": {
        "id": "gNyTyf4vJxdZ"
      }
    },
    {
      "cell_type": "code",
      "source": [
        "# Loads a single .mat file into dictionary where {key=str, value=np.ndarray}\n",
        "mat = scipy.io.loadmat('/content/bci_data/Exp1/Subj10_S01_Exp1.mat') \n",
        "\n",
        "#HIgh-Level Description of Dataset\n",
        "#print(mat.keys())\n",
        "#for i in mat.keys():\n",
        "#    print(f'Dictionary Key: {i} (dtype: {type(i)})')\n",
        "#    if isinstance(mat[i], np.ndarray):\n",
        "#        print(f'Dictionary Value (dtype: {type(mat[i])}) shape: {mat[i].shape} ')\n",
        "#    else: print(f'{mat[i]}')\n",
        "\n",
        "#New variable to load formatted data\n",
        "dat = dict()\n",
        "dat['raw_eeg'] = mat['output_data']\n",
        " \n",
        "# Reformatting 'BCI_UseResults' into a dictionary\n",
        "bci_useresults = dict()\n",
        "for i in mat['BCI_UseResults']:\n",
        "    bci_useresults[i[1][0]] = i[0].flatten()\n",
        "\n",
        "dat['bci_useresults'] = bci_useresults #Add formatted data to dictionary\n",
        "\n",
        "# Reformatting 'Experiment_Parm' into a dictionary\n",
        "exp_parm = dict()\n",
        "for _ in mat['Experiment_Parm']:\n",
        "    for wrapper in _:\n",
        "        fieldnames = wrapper.dtype.names\n",
        "        for idx, val in enumerate(wrapper):\n",
        "            exp_parm[f'{fieldnames[idx]}'] = val.flatten()\n",
        "\n",
        "dat['exp_parm'] = exp_parm\n",
        "\n",
        "# Reformatting 'Experimental_states' into a dictionary\n",
        "exp_states = dict()\n",
        "for _ in mat['Experimental_states']:\n",
        "    for wrapper in _:\n",
        "        fieldnames = wrapper.dtype.names\n",
        "        for idx, val in enumerate(wrapper):\n",
        "            exp_states[f'{fieldnames[idx]}'] = val.flatten()\n",
        "\n",
        "dat['exp_states'] = exp_states\n",
        "\n",
        "print(f'New variable \"dat\" has keys: {dat.keys()}')\n",
        "for key in dat.keys():\n",
        "    print('--------------------------------')\n",
        "    if key != 'raw_eeg':  \n",
        "        print(f'Key: [{key}] contains a nested dictionary as its value:')\n",
        "        for j in dat[key].keys():\n",
        "            print(f'(Nested) Key: {j} ->  Input Shape: {dat[key][j].shape}')\n",
        "    else: print(f'Key:[{key}] -> Input Shape:{dat[key].shape}')"
      ],
      "metadata": {
        "colab": {
          "base_uri": "https://localhost:8080/"
        },
        "id": "ZMzQJG5ea9KR",
        "outputId": "96dd1298-3bb2-41b9-d4ad-785909c87263"
      },
      "execution_count": 5,
      "outputs": [
        {
          "output_type": "stream",
          "name": "stdout",
          "text": [
            "New variable \"dat\" has keys: dict_keys(['raw_eeg', 'bci_useresults', 'exp_parm', 'exp_states'])\n",
            "--------------------------------\n",
            "Key:[raw_eeg] -> Input Shape:(142080, 62)\n",
            "--------------------------------\n",
            "Key: [bci_useresults] contains a nested dictionary as its value:\n",
            "(Nested) Key: Number of trials in each run ->  Input Shape: (5,)\n",
            "(Nested) Key: Number of trials hitting the targets ->  Input Shape: (5,)\n",
            "(Nested) Key: Number of trials abort ->  Input Shape: (5,)\n",
            "(Nested) Key: The percent valid correct for each run ->  Input Shape: (5,)\n",
            "(Nested) Key: Information transfer rate for each run ->  Input Shape: (5,)\n",
            "--------------------------------\n",
            "Key: [exp_parm] contains a nested dictionary as its value:\n",
            "(Nested) Key: PreFeedbackDuration ->  Input Shape: (1,)\n",
            "(Nested) Key: SamplingFrequency ->  Input Shape: (1,)\n",
            "(Nested) Key: PostFeedbackDuration ->  Input Shape: (1,)\n",
            "(Nested) Key: ITIDuration ->  Input Shape: (1,)\n",
            "(Nested) Key: Channels ->  Input Shape: (62,)\n",
            "(Nested) Key: Description ->  Input Shape: (1,)\n",
            "--------------------------------\n",
            "Key: [exp_states] contains a nested dictionary as its value:\n",
            "(Nested) Key: TargetCode ->  Input Shape: (142080,)\n",
            "(Nested) Key: ResultCode ->  Input Shape: (142080,)\n",
            "(Nested) Key: Feedback ->  Input Shape: (142080,)\n",
            "(Nested) Key: CursorPosX ->  Input Shape: (142080,)\n",
            "(Nested) Key: CursorPosY ->  Input Shape: (142080,)\n"
          ]
        }
      ]
    },
    {
      "cell_type": "code",
      "source": [
        "\"\"\"\n",
        "TODOs: \n",
        "1. Format the 'output_data' into torch.Tensor to make it trainable on a neural network\n",
        "\"\"\"\n",
        "        \n",
        "# Attempt 1: Use Pandas to display the exp_ s\n",
        "df_exp_states = pd.DataFrame.from_dict(exp_states)\n",
        "display(df_exp_states)\n",
        "df_exp_states['CursorPosX'].unique()\n",
        "df_exp_states['TargetCode'].unique()"
      ],
      "metadata": {
        "colab": {
          "base_uri": "https://localhost:8080/",
          "height": 441
        },
        "id": "i1YraO0mMWOD",
        "outputId": "240fea08-8f24-4bc8-b62f-0f3e093d1c82"
      },
      "execution_count": null,
      "outputs": [
        {
          "output_type": "display_data",
          "data": {
            "text/plain": [
              "        TargetCode  ResultCode  Feedback  CursorPosX  CursorPosY\n",
              "0                0           0         0           0           0\n",
              "1                0           0         0           0           0\n",
              "2                0           0         0           0           0\n",
              "3                0           0         0           0           0\n",
              "4                0           0         0           0           0\n",
              "...            ...         ...       ...         ...         ...\n",
              "142075           2           2         0         520        2047\n",
              "142076           2           2         0         520        2047\n",
              "142077           2           2         0         520        2047\n",
              "142078           2           2         0         520        2047\n",
              "142079           2           2         0         520        2047\n",
              "\n",
              "[142080 rows x 5 columns]"
            ],
            "text/html": [
              "\n",
              "  <div id=\"df-a20483af-b297-480b-be1d-fc880696e875\">\n",
              "    <div class=\"colab-df-container\">\n",
              "      <div>\n",
              "<style scoped>\n",
              "    .dataframe tbody tr th:only-of-type {\n",
              "        vertical-align: middle;\n",
              "    }\n",
              "\n",
              "    .dataframe tbody tr th {\n",
              "        vertical-align: top;\n",
              "    }\n",
              "\n",
              "    .dataframe thead th {\n",
              "        text-align: right;\n",
              "    }\n",
              "</style>\n",
              "<table border=\"1\" class=\"dataframe\">\n",
              "  <thead>\n",
              "    <tr style=\"text-align: right;\">\n",
              "      <th></th>\n",
              "      <th>TargetCode</th>\n",
              "      <th>ResultCode</th>\n",
              "      <th>Feedback</th>\n",
              "      <th>CursorPosX</th>\n",
              "      <th>CursorPosY</th>\n",
              "    </tr>\n",
              "  </thead>\n",
              "  <tbody>\n",
              "    <tr>\n",
              "      <th>0</th>\n",
              "      <td>0</td>\n",
              "      <td>0</td>\n",
              "      <td>0</td>\n",
              "      <td>0</td>\n",
              "      <td>0</td>\n",
              "    </tr>\n",
              "    <tr>\n",
              "      <th>1</th>\n",
              "      <td>0</td>\n",
              "      <td>0</td>\n",
              "      <td>0</td>\n",
              "      <td>0</td>\n",
              "      <td>0</td>\n",
              "    </tr>\n",
              "    <tr>\n",
              "      <th>2</th>\n",
              "      <td>0</td>\n",
              "      <td>0</td>\n",
              "      <td>0</td>\n",
              "      <td>0</td>\n",
              "      <td>0</td>\n",
              "    </tr>\n",
              "    <tr>\n",
              "      <th>3</th>\n",
              "      <td>0</td>\n",
              "      <td>0</td>\n",
              "      <td>0</td>\n",
              "      <td>0</td>\n",
              "      <td>0</td>\n",
              "    </tr>\n",
              "    <tr>\n",
              "      <th>4</th>\n",
              "      <td>0</td>\n",
              "      <td>0</td>\n",
              "      <td>0</td>\n",
              "      <td>0</td>\n",
              "      <td>0</td>\n",
              "    </tr>\n",
              "    <tr>\n",
              "      <th>...</th>\n",
              "      <td>...</td>\n",
              "      <td>...</td>\n",
              "      <td>...</td>\n",
              "      <td>...</td>\n",
              "      <td>...</td>\n",
              "    </tr>\n",
              "    <tr>\n",
              "      <th>142075</th>\n",
              "      <td>2</td>\n",
              "      <td>2</td>\n",
              "      <td>0</td>\n",
              "      <td>520</td>\n",
              "      <td>2047</td>\n",
              "    </tr>\n",
              "    <tr>\n",
              "      <th>142076</th>\n",
              "      <td>2</td>\n",
              "      <td>2</td>\n",
              "      <td>0</td>\n",
              "      <td>520</td>\n",
              "      <td>2047</td>\n",
              "    </tr>\n",
              "    <tr>\n",
              "      <th>142077</th>\n",
              "      <td>2</td>\n",
              "      <td>2</td>\n",
              "      <td>0</td>\n",
              "      <td>520</td>\n",
              "      <td>2047</td>\n",
              "    </tr>\n",
              "    <tr>\n",
              "      <th>142078</th>\n",
              "      <td>2</td>\n",
              "      <td>2</td>\n",
              "      <td>0</td>\n",
              "      <td>520</td>\n",
              "      <td>2047</td>\n",
              "    </tr>\n",
              "    <tr>\n",
              "      <th>142079</th>\n",
              "      <td>2</td>\n",
              "      <td>2</td>\n",
              "      <td>0</td>\n",
              "      <td>520</td>\n",
              "      <td>2047</td>\n",
              "    </tr>\n",
              "  </tbody>\n",
              "</table>\n",
              "<p>142080 rows × 5 columns</p>\n",
              "</div>\n",
              "      <button class=\"colab-df-convert\" onclick=\"convertToInteractive('df-a20483af-b297-480b-be1d-fc880696e875')\"\n",
              "              title=\"Convert this dataframe to an interactive table.\"\n",
              "              style=\"display:none;\">\n",
              "        \n",
              "  <svg xmlns=\"http://www.w3.org/2000/svg\" height=\"24px\"viewBox=\"0 0 24 24\"\n",
              "       width=\"24px\">\n",
              "    <path d=\"M0 0h24v24H0V0z\" fill=\"none\"/>\n",
              "    <path d=\"M18.56 5.44l.94 2.06.94-2.06 2.06-.94-2.06-.94-.94-2.06-.94 2.06-2.06.94zm-11 1L8.5 8.5l.94-2.06 2.06-.94-2.06-.94L8.5 2.5l-.94 2.06-2.06.94zm10 10l.94 2.06.94-2.06 2.06-.94-2.06-.94-.94-2.06-.94 2.06-2.06.94z\"/><path d=\"M17.41 7.96l-1.37-1.37c-.4-.4-.92-.59-1.43-.59-.52 0-1.04.2-1.43.59L10.3 9.45l-7.72 7.72c-.78.78-.78 2.05 0 2.83L4 21.41c.39.39.9.59 1.41.59.51 0 1.02-.2 1.41-.59l7.78-7.78 2.81-2.81c.8-.78.8-2.07 0-2.86zM5.41 20L4 18.59l7.72-7.72 1.47 1.35L5.41 20z\"/>\n",
              "  </svg>\n",
              "      </button>\n",
              "      \n",
              "  <style>\n",
              "    .colab-df-container {\n",
              "      display:flex;\n",
              "      flex-wrap:wrap;\n",
              "      gap: 12px;\n",
              "    }\n",
              "\n",
              "    .colab-df-convert {\n",
              "      background-color: #E8F0FE;\n",
              "      border: none;\n",
              "      border-radius: 50%;\n",
              "      cursor: pointer;\n",
              "      display: none;\n",
              "      fill: #1967D2;\n",
              "      height: 32px;\n",
              "      padding: 0 0 0 0;\n",
              "      width: 32px;\n",
              "    }\n",
              "\n",
              "    .colab-df-convert:hover {\n",
              "      background-color: #E2EBFA;\n",
              "      box-shadow: 0px 1px 2px rgba(60, 64, 67, 0.3), 0px 1px 3px 1px rgba(60, 64, 67, 0.15);\n",
              "      fill: #174EA6;\n",
              "    }\n",
              "\n",
              "    [theme=dark] .colab-df-convert {\n",
              "      background-color: #3B4455;\n",
              "      fill: #D2E3FC;\n",
              "    }\n",
              "\n",
              "    [theme=dark] .colab-df-convert:hover {\n",
              "      background-color: #434B5C;\n",
              "      box-shadow: 0px 1px 3px 1px rgba(0, 0, 0, 0.15);\n",
              "      filter: drop-shadow(0px 1px 2px rgba(0, 0, 0, 0.3));\n",
              "      fill: #FFFFFF;\n",
              "    }\n",
              "  </style>\n",
              "\n",
              "      <script>\n",
              "        const buttonEl =\n",
              "          document.querySelector('#df-a20483af-b297-480b-be1d-fc880696e875 button.colab-df-convert');\n",
              "        buttonEl.style.display =\n",
              "          google.colab.kernel.accessAllowed ? 'block' : 'none';\n",
              "\n",
              "        async function convertToInteractive(key) {\n",
              "          const element = document.querySelector('#df-a20483af-b297-480b-be1d-fc880696e875');\n",
              "          const dataTable =\n",
              "            await google.colab.kernel.invokeFunction('convertToInteractive',\n",
              "                                                     [key], {});\n",
              "          if (!dataTable) return;\n",
              "\n",
              "          const docLinkHtml = 'Like what you see? Visit the ' +\n",
              "            '<a target=\"_blank\" href=https://colab.research.google.com/notebooks/data_table.ipynb>data table notebook</a>'\n",
              "            + ' to learn more about interactive tables.';\n",
              "          element.innerHTML = '';\n",
              "          dataTable['output_type'] = 'display_data';\n",
              "          await google.colab.output.renderOutput(dataTable, element);\n",
              "          const docLink = document.createElement('div');\n",
              "          docLink.innerHTML = docLinkHtml;\n",
              "          element.appendChild(docLink);\n",
              "        }\n",
              "      </script>\n",
              "    </div>\n",
              "  </div>\n",
              "  "
            ]
          },
          "metadata": {}
        },
        {
          "output_type": "execute_result",
          "data": {
            "text/plain": [
              "array([0, 2, 1], dtype=uint8)"
            ]
          },
          "metadata": {},
          "execution_count": 39
        }
      ]
    },
    {
      "cell_type": "code",
      "source": [
        " # YHH\n",
        "# targets = mat['Experimental_states']['TargetCode']\n",
        "# targets = targets[0][0]\n",
        "# targets = np.squeeze(targets)\n",
        "# print(targets)\n",
        "# print(exp_states['TargetCode'])\n",
        "# exp_states['CursorPosX']\n",
        "targets = exp_states['TargetCode']\n",
        "# trial_start_index = np.nonzero(np.diff(targets))[0][::2]+1\n",
        "# trial_start_end_index = np.nonzero(np.diff(targets))[0]+1\n",
        "test = np.nonzero(np.diff(targets))[0]+1\n",
        "print(test)"
      ],
      "metadata": {
        "id": "_CZmPdz6qxsM"
      },
      "execution_count": null,
      "outputs": []
    },
    {
      "cell_type": "code",
      "source": [
        "targets = mat['Experimental_states']['TargetCode']\n",
        "cursor = mat['Experimental_states']['CursorPosX']\n",
        "\n",
        "targets = targets[0][0]\n",
        "targets = np.squeeze(targets)\n",
        "\n",
        "# Maybe we can use the dict that Robin prepared to extract the targets?\n",
        "targets = exp_states['TargetCode']\n",
        "results = exp_states['ResultCode']\n",
        "# cursor = exp_states['CursorPosX']\n",
        "\n",
        "raw_eeg = mat['output_data']\n",
        "\n",
        "# Get indices for the start/end of  each trial\n",
        "trial_start_index = np.nonzero(np.diff(targets))[0][::2]+1\n",
        "trial_start_end_index = np.nonzero(np.diff(targets))[0]+1\n",
        "\n",
        "# labels to ConvNet in one data file\n",
        "targets = targets[trial_start_index]\n",
        "results = results[trial_start_index]\n",
        "print(\"labels: \")\n",
        "print(targets.shape)\n",
        "print(targets)\n",
        "print(results)\n",
        "print('-----------------------------------------------')\n",
        "print(\"minimum trial duration: \", np.amin(np.diff(trial_start_end_index)[::2]))\n",
        "\n",
        "raw_eeg = np.split(raw_eeg,trial_start_end_index)[1::2]\n",
        "input = []\n",
        "\n",
        "for eeg in raw_eeg:\n",
        "  # index 210 to 310 (1s) because the motor imgination starts 2s after the target shows up. 210 is 2s (200) plus 0.1s (10) reaction time. \n",
        "  # The target will freeze on the screen for 1s and the shortest trial only lasts for 4.3 seconds so the upper bound needs to be <330, 4.32 (432) minus 1s (100).\n",
        "  # 310 is taken to round to 100\n",
        "  input.append(eeg[210:310,:])\n",
        "\n",
        "# inputs to ConvNet in one data file\n",
        "input = np.array(input)\n",
        "print(\"input: \")\n",
        "print(input.shape)\n",
        "\n",
        "\n",
        "\n",
        "\n"
      ],
      "metadata": {
        "colab": {
          "base_uri": "https://localhost:8080/"
        },
        "id": "AZ91kapovkoY",
        "outputId": "fbc3519d-d47c-43e9-b528-6ad8e6105b11"
      },
      "execution_count": 6,
      "outputs": [
        {
          "output_type": "stream",
          "name": "stdout",
          "text": [
            "labels: \n",
            "(125,)\n",
            "[2 1 2 1 1 2 1 2 1 2 1 2 2 1 2 1 2 1 2 1 2 1 1 2 1 2 2 1 1 2 1 2 1 2 2 1 2\n",
            " 1 2 1 2 1 2 1 1 2 1 2 2 1 1 2 1 2 2 1 2 1 2 1 1 2 1 2 2 1 1 2 1 2 1 2 2 1\n",
            " 1 2 2 1 2 1 2 1 2 1 2 1 1 2 2 1 1 2 2 1 1 2 2 1 1 2 1 2 2 1 2 1 2 1 1 2 1\n",
            " 2 2 1 1 2 1 2 1 2 1 2 2 1 2]\n",
            "[0 0 0 0 0 0 0 0 0 0 0 0 0 0 0 0 0 0 0 0 0 0 0 0 0 0 0 0 0 0 0 0 0 0 0 0 0\n",
            " 0 0 0 0 0 0 0 0 0 0 0 0 0 0 0 0 0 0 0 0 0 0 0 0 0 0 0 0 0 0 0 0 0 0 0 0 0\n",
            " 0 0 0 0 0 0 0 0 0 0 0 0 0 0 0 0 0 0 0 0 0 0 0 0 0 0 0 0 0 0 0 0 0 0 0 0 0\n",
            " 0 0 0 0 0 0 0 0 0 0 0 0 0 0]\n",
            "-----------------------------------------------\n",
            "minimum trial duration:  432\n",
            "input: \n",
            "(125, 100, 62)\n"
          ]
        }
      ]
    },
    {
      "cell_type": "markdown",
      "source": [
        "There are total of 125 trials in each data file. The code below visualizes the first three trials with curosr position on the left and eeg signals o nthe right."
      ],
      "metadata": {
        "id": "ovRaXORD3iD8"
      }
    },
    {
      "cell_type": "markdown",
      "source": [
        "# Visualization"
      ],
      "metadata": {
        "id": "pAGHwLgmh0qC"
      }
    },
    {
      "cell_type": "code",
      "source": [
        "# DataData Visualization\n",
        "import matplotlib.pyplot as plt\n",
        "\n",
        "cursor = mat['Experimental_states']['CursorPosX']\n",
        "cursor = cursor[0][0]\n",
        "cursor = np.squeeze(cursor)\n",
        "raw_eeg = mat['output_data']\n",
        "\n",
        "plt.subplot(5,2,1)\n",
        "plt.plot(cursor[trial_start_end_index[0]:trial_start_end_index[1]]);\n",
        "plt.title(\"first trial motor imagination\")\n",
        "plt.subplot(5,2,2)\n",
        "plt.plot(raw_eeg[trial_start_end_index[0]:trial_start_end_index[1],:]);\n",
        "\n",
        "plt.subplot(5,2,3)\n",
        "plt.plot(cursor[trial_start_end_index[1]:trial_start_end_index[2]]);\n",
        "plt.title(\"second trial prep\")\n",
        "plt.subplot(5,2,4)\n",
        "plt.plot(raw_eeg[trial_start_end_index[1]:trial_start_end_index[2],:]);\n",
        "\n",
        "plt.subplot(5,2,5)\n",
        "plt.plot(cursor[trial_start_end_index[2]:trial_start_end_index[3]]);\n",
        "plt.title(\"second trial motor imagination\")\n",
        "plt.subplot(5,2,6)\n",
        "plt.plot(raw_eeg[trial_start_end_index[2]:trial_start_end_index[3],:]);\n",
        "\n",
        "plt.subplot(5,2,7)\n",
        "plt.plot(cursor[trial_start_end_index[3]:trial_start_end_index[4]]);\n",
        "plt.title(\"third trial prep\")\n",
        "plt.subplot(5,2,8)\n",
        "plt.plot(raw_eeg[trial_start_end_index[3]:trial_start_end_index[4],:]);\n",
        "\n",
        "plt.subplot(5,2,9)\n",
        "plt.plot(cursor[trial_start_end_index[4]:trial_start_end_index[5]]);\n",
        "plt.title(\"thrid trial motor imagination\")\n",
        "plt.subplot(5,2,10)\n",
        "plt.plot(raw_eeg[trial_start_end_index[4]:trial_start_end_index[5],:]);"
      ],
      "metadata": {
        "colab": {
          "base_uri": "https://localhost:8080/",
          "height": 281
        },
        "id": "yQLUBhEP2qAk",
        "outputId": "e33401ee-612b-4da2-fb0c-fb2d06f6635f"
      },
      "execution_count": 7,
      "outputs": [
        {
          "output_type": "display_data",
          "data": {
            "text/plain": [
              "<Figure size 432x288 with 10 Axes>"
            ],
            "image/png": "[encoded data removed]"
          },
          "metadata": {
            "needs_background": "light"
          }
        }
      ]
    },
    {
      "cell_type": "code",
      "source": [
        "# Loads a single .mat file into dictionary where {key=str, value=np.ndarray}\n",
        "mat = scipy.io.loadmat('/content/bci_data/Exp1/Subj10_S01_Exp1.mat') \n",
        "\n",
        "#HIgh-Level Description of Dataset\n",
        "#print(mat.keys())\n",
        "#for i in mat.keys():\n",
        "#    print(f'Dictionary Key: {i} (dtype: {type(i)})')\n",
        "#    if isinstance(mat[i], np.ndarray):\n",
        "#        print(f'Dictionary Value (dtype: {type(mat[i])}) shape: {mat[i].shape} ')\n",
        "#    else: print(f'{mat[i]}')\n",
        "\n",
        "#New variable to load formatted data\n",
        "dat = dict()\n",
        "dat['raw_eeg'] = mat['output_data']\n",
        " \n",
        "# Reformatting 'BCI_UseResults' into a dictionary\n",
        "bci_useresults = dict()\n",
        "for i in mat['BCI_UseResults']:\n",
        "    bci_useresults[i[1][0]] = i[0].flatten()\n",
        "\n",
        "dat['bci_useresults'] = bci_useresults #Add formatted data to dictionary\n",
        "\n",
        "# Reformatting 'Experiment_Parm' into a dictionary\n",
        "exp_parm = dict()\n",
        "for _ in mat['Experiment_Parm']:\n",
        "    for wrapper in _:\n",
        "        fieldnames = wrapper.dtype.names\n",
        "        for idx, val in enumerate(wrapper):\n",
        "            exp_parm[f'{fieldnames[idx]}'] = val.flatten()\n",
        "\n",
        "dat['exp_parm'] = exp_parm\n",
        "\n",
        "# Reformatting 'Experimental_states' into a dictionary\n",
        "exp_states = dict()\n",
        "for _ in mat['Experimental_states']:\n",
        "    for wrapper in _:\n",
        "        fieldnames = wrapper.dtype.names\n",
        "        for idx, val in enumerate(wrapper):\n",
        "            exp_states[f'{fieldnames[idx]}'] = val.flatten()\n",
        "\n",
        "dat['exp_states'] = exp_states\n",
        "\n",
        "print(f'New variable \"dat\" has keys: {dat.keys()}')\n",
        "for key in dat.keys():\n",
        "    print('--------------------------------')\n",
        "    if key != 'raw_eeg':  \n",
        "        print(f'Key: [{key}] contains a nested dictionary as its value:')\n",
        "        for j in dat[key].keys():\n",
        "            print(f'(Nested) Key: {j} ->  Input Shape: {dat[key][j].shape}')\n",
        "    else: print(f'Key:[{key}] -> Input Shape:{dat[key].shape}')"
      ],
      "metadata": {
        "colab": {
          "base_uri": "https://localhost:8080/"
        },
        "id": "IqZBptsu8x_L",
        "outputId": "84c95d0d-ad29-48df-f95d-5ef2196f5eca"
      },
      "execution_count": 8,
      "outputs": [
        {
          "output_type": "stream",
          "name": "stdout",
          "text": [
            "New variable \"dat\" has keys: dict_keys(['raw_eeg', 'bci_useresults', 'exp_parm', 'exp_states'])\n",
            "--------------------------------\n",
            "Key:[raw_eeg] -> Input Shape:(142080, 62)\n",
            "--------------------------------\n",
            "Key: [bci_useresults] contains a nested dictionary as its value:\n",
            "(Nested) Key: Number of trials in each run ->  Input Shape: (5,)\n",
            "(Nested) Key: Number of trials hitting the targets ->  Input Shape: (5,)\n",
            "(Nested) Key: Number of trials abort ->  Input Shape: (5,)\n",
            "(Nested) Key: The percent valid correct for each run ->  Input Shape: (5,)\n",
            "(Nested) Key: Information transfer rate for each run ->  Input Shape: (5,)\n",
            "--------------------------------\n",
            "Key: [exp_parm] contains a nested dictionary as its value:\n",
            "(Nested) Key: PreFeedbackDuration ->  Input Shape: (1,)\n",
            "(Nested) Key: SamplingFrequency ->  Input Shape: (1,)\n",
            "(Nested) Key: PostFeedbackDuration ->  Input Shape: (1,)\n",
            "(Nested) Key: ITIDuration ->  Input Shape: (1,)\n",
            "(Nested) Key: Channels ->  Input Shape: (62,)\n",
            "(Nested) Key: Description ->  Input Shape: (1,)\n",
            "--------------------------------\n",
            "Key: [exp_states] contains a nested dictionary as its value:\n",
            "(Nested) Key: TargetCode ->  Input Shape: (142080,)\n",
            "(Nested) Key: ResultCode ->  Input Shape: (142080,)\n",
            "(Nested) Key: Feedback ->  Input Shape: (142080,)\n",
            "(Nested) Key: CursorPosX ->  Input Shape: (142080,)\n",
            "(Nested) Key: CursorPosY ->  Input Shape: (142080,)\n"
          ]
        }
      ]
    },
    {
      "cell_type": "code",
      "source": [
        "# dat['exp_states']['TargetCode'].shape\n",
        "exp_states['ResultCode'].shape"
      ],
      "metadata": {
        "colab": {
          "base_uri": "https://localhost:8080/"
        },
        "id": "dLEjS-CZAieu",
        "outputId": "cdeefd1d-4b5e-481c-fdc6-c2f0ddf59317"
      },
      "execution_count": 9,
      "outputs": [
        {
          "output_type": "execute_result",
          "data": {
            "text/plain": [
              "(142080,)"
            ]
          },
          "metadata": {},
          "execution_count": 9
        }
      ]
    },
    {
      "cell_type": "markdown",
      "source": [
        "# Dataset"
      ],
      "metadata": {
        "id": "e4DdWFrpsXWw"
      }
    },
    {
      "cell_type": "code",
      "source": [
        "class SubjectDataset(torch.utils.data.Dataset):\n",
        "\n",
        "    def __init__(self, root, exp = 'Exp1', subject = 1, mode = 'train'):\n",
        "\n",
        "        # Load the directory\n",
        "        self.dir = root + '/' + exp\n",
        "\n",
        "        self.eegs, self.results = [], []\n",
        "        \n",
        "        # Use session 1 and 2 for trainning, session 3 for testing/validation\n",
        "        if mode == 'train':\n",
        "            sessions = ['S01', 'S02']\n",
        "        else:\n",
        "            sessions = ['S03']\n",
        "        \n",
        "        for session in sessions:\n",
        "            # Load a single mat file\n",
        "            mat = scipy.io.loadmat(f'{self.dir}/Subj{subject}_{session}_{exp}.mat')\n",
        "            \n",
        "            # Get raw EEG data in one session\n",
        "            session_eeg = mat['output_data']\n",
        "            \n",
        "            # Get target code in one session\n",
        "            exp_states = dict()\n",
        "            for _ in mat['Experimental_states']:\n",
        "                for wrapper in _:\n",
        "                    fieldnames = wrapper.dtype.names\n",
        "                    for idx, val in enumerate(wrapper):\n",
        "                        exp_states[f'{fieldnames[idx]}'] = val.flatten()\n",
        "            session_targetCode = exp_states['TargetCode']-1\n",
        "\n",
        "            \n",
        "            '''\n",
        "            TODO: The different effective length of 3 sessions will cause problems for data loader.\n",
        "            --> for now, we use a fix number 100 as the effective duration\n",
        "            --> If this impacts the model performance, we can try pad_pack_sequence\n",
        "            '''\n",
        "            \n",
        "            # Remove useless data\n",
        "            trial_start_index = np.nonzero(np.diff(session_targetCode))[0][::2]+1\n",
        "            trial_start_end_index = np.nonzero(np.diff(session_targetCode))[0]+1\n",
        "\n",
        "            # Split continuous eeg data to trials\n",
        "            eeg_split_trials = np.split(session_eeg,trial_start_end_index)[1::2]\n",
        "            \n",
        "            # Motor imgination starts 2s after the target shows up. Plus 0.1s for reactions time\n",
        "            effective_start = 210\n",
        "            \n",
        "            # The target freezes for 1s after hitting the target, signals in this 1s is useless.\n",
        "            # Use the min duration time - 1s as the effective end time. \n",
        "            # Different sessions have different min duration time\n",
        "            # min_trial_duration = np.amin(np.diff(trial_start_end_index)[::2])\n",
        "            # effective_end = min_trial_duration - 100\n",
        "            \n",
        "            # Update: for now, we use a fix number 100 as the effective duration\n",
        "            effective_end = effective_start + 100\n",
        "            \n",
        "            effective_eeg = []\n",
        "            for eeg in eeg_split_trials:\n",
        "                effective_eeg.append(eeg[effective_start:effective_end,:])\n",
        "            \n",
        "            # Remove useless target code\n",
        "            session_targetCode = session_targetCode[trial_start_index]\n",
        "\n",
        "            # print(min_trial_duration)\n",
        "            # print(np.array(effective_eeg).shape)\n",
        "            # print(len(session_targetCode))\n",
        "            # print(session_targetCode)\n",
        "\n",
        "            # Add the session data into the array\n",
        "            self.eegs += (effective_eeg)\n",
        "            self.results.append(session_targetCode)\n",
        "        \n",
        "        # Concatenate results\n",
        "        self.results = np.concatenate(self.results)\n",
        "        \n",
        "        # print(self.eegs[0].shape)\n",
        "        # print(self.eegs[125].shape)\n",
        "        # print(self.eegs[250].shape)\n",
        "        # print(len(self.results))\n",
        "            \n",
        "        self.length = len(self.results)\n",
        "\n",
        "    def __len__(self):\n",
        "        return self.length\n",
        "\n",
        "    def __getitem__(self, ind):\n",
        "        eegs = np.array([self.eegs[ind]]) # extra [] to make an additional dimension for channel\n",
        "        eegs = torch.FloatTensor(eegs)\n",
        "        results = torch.tensor(self.results[ind])\n",
        "        return eegs, results\n",
        "\n",
        "    '''\n",
        "    TODO: Discuss if we need batch-wise operations.\n",
        "    '''\n",
        "    # def collate_fn(batch):\n",
        "    #     return batch\n"
      ],
      "metadata": {
        "id": "cXe2Lh1N6x6l"
      },
      "execution_count": 16,
      "outputs": []
    },
    {
      "cell_type": "code",
      "source": [
        "# Test of dataset and data loader\n",
        "root = '/content/bci_data'\n",
        "train_dataset = SubjectDataset(root, subject=2, mode = 'train')\n",
        "train_loader = torch.utils.data.DataLoader(\n",
        "    dataset     = train_dataset, \n",
        "    num_workers = 4,\n",
        "    batch_size  = 8, \n",
        "    pin_memory  = True,\n",
        "    shuffle     = True,\n",
        "    # collate_fn  = AudioDataset.collate_fn\n",
        ")\n",
        "\n",
        "test_dataset = SubjectDataset(root, subject=2, mode = 'test')\n",
        "test_loader = torch.utils.data.DataLoader(\n",
        "    dataset     = test_dataset, \n",
        "    num_workers = 4,\n",
        "    batch_size  = 8, \n",
        "    pin_memory  = True,\n",
        "    shuffle     = False,\n",
        "    # collate_fn  = AudioDataset.collate_fn\n",
        ")"
      ],
      "metadata": {
        "id": "fY-UeCyb839n"
      },
      "execution_count": 29,
      "outputs": []
    },
    {
      "cell_type": "code",
      "source": [
        "print(\"No. of data         : \", train_dataset.__len__())\n",
        "print(\"Shape of data       : \", train_dataset[0][0].shape)\n",
        "# print(\"Batch size           : \", config['batch_size'])\n",
        "print(\"Train batches       : \", train_loader.__len__())\n",
        "print(\"Test batches        : \", test_loader.__len__())"
      ],
      "metadata": {
        "id": "caDgL4H-O0Iy",
        "outputId": "29a0d924-4c43-4b4e-da24-63bc4e474430",
        "colab": {
          "base_uri": "https://localhost:8080/"
        }
      },
      "execution_count": 30,
      "outputs": [
        {
          "output_type": "stream",
          "name": "stdout",
          "text": [
            "No. of data         :  250\n",
            "Shape of data       :  torch.Size([1, 100, 62])\n",
            "Train batches       :  32\n",
            "Test batches        :  16\n"
          ]
        }
      ]
    },
    {
      "cell_type": "code",
      "source": [
        "gc.collect() # These commands help you when you face CUDA OOM error\n",
        "os.environ['CUDA_LAUNCH_BLOCKING'] = \"1\"\n",
        "torch.cuda.empty_cache()"
      ],
      "metadata": {
        "id": "0WlWn-8omFPW"
      },
      "execution_count": 31,
      "outputs": []
    },
    {
      "cell_type": "code",
      "source": [
        "# Test of dataset and data loader\n",
        "for x, y in train_loader:\n",
        "    print(x.shape, y.shape)\n",
        "  \n",
        "    break"
      ],
      "metadata": {
        "colab": {
          "base_uri": "https://localhost:8080/"
        },
        "id": "zuqYhd8mLipH",
        "outputId": "41e6c884-5410-4627-edbd-c8155c527675"
      },
      "execution_count": 33,
      "outputs": [
        {
          "output_type": "stream",
          "name": "stderr",
          "text": [
            "/usr/local/lib/python3.9/dist-packages/torch/utils/data/dataloader.py:554: UserWarning: This DataLoader will create 4 worker processes in total. Our suggested max number of worker in current system is 2, which is smaller than what this DataLoader is going to create. Please be aware that excessive worker creation might get DataLoader running slow or even freeze, lower the worker number to avoid potential slowness/freeze if necessary.\n",
            "  warnings.warn(_create_warning_msg(\n"
          ]
        },
        {
          "output_type": "stream",
          "name": "stdout",
          "text": [
            "torch.Size([8, 1, 100, 62]) torch.Size([8])\n"
          ]
        }
      ]
    },
    {
      "cell_type": "markdown",
      "source": [
        "# Model"
      ],
      "metadata": {
        "id": "KCUNa080spJB"
      }
    },
    {
      "cell_type": "code",
      "source": [
        "class ShallowConvNet(nn.Module):\n",
        "    def __init__(self, in_channels = 62, n_classes = 2, conv_stride = 1, batch_norm_alpha=0.1, drop_prob=0.5):\n",
        "        super().__init__()\n",
        "\n",
        "        self.layers = nn.Sequential(\n",
        "            # Conv Pool Block 1\n",
        "            nn.Conv2d(1, 40, (25, 1)),\n",
        "            nn.Conv2d(40, 40, (1, in_channels), stride= 1 , bias=False),\n",
        "            nn.BatchNorm2d(40, momentum=batch_norm_alpha, affine=True, eps=1e-5,),\n",
        "            nn.ELU(),\n",
        "            nn.MaxPool2d((3, 1), stride=(3, 1)),\n",
        "\n",
        "            # # Conv Pool Block 2\n",
        "            # nn.Dropout(p=drop_prob),\n",
        "            # nn.Conv2d(25, 50, (10, 1), bias=False),\n",
        "            # nn.BatchNorm2d(50, momentum=batch_norm_alpha),\n",
        "            # nn.ELU(),\n",
        "            # nn.MaxPool2d((3, 1), stride=(3, 1)),\n",
        "\n",
        "            # # Conv Pool Block 3\n",
        "            # nn.Dropout(p=drop_prob),\n",
        "            # nn.Conv2d(50, 100, (10, 1), bias=False),\n",
        "            # nn.BatchNorm2d(100, momentum=batch_norm_alpha),\n",
        "            # nn.ELU(),\n",
        "            # nn.MaxPool2d((3, 1), stride=(3, 1)),\n",
        "\n",
        "            # # Conv Pool Block 4\n",
        "            # nn.Dropout(p=drop_prob),\n",
        "            # nn.Conv2d(100, 200, (10, 1), bias=False),\n",
        "            # nn.BatchNorm2d(200, momentum=batch_norm_alpha),\n",
        "            # nn.ELU(),\n",
        "            # nn.MaxPool2d((3, 1), stride=(3, 1)),\n",
        "\n",
        "            # # Classification Layer\n",
        "            # nn.Conv2d(200, n_classes, (2,1), bias=True),\n",
        "            # nn.LogSoftmax(dim=1)\n",
        "        )\n",
        "\n",
        "        self._init_weights()\n",
        "\n",
        "    def _init_weights(self):\n",
        "        for m in self.modules():\n",
        "            if isinstance(m, nn.Conv2d):\n",
        "                nn.init.xavier_uniform_(m.weight, gain=1)\n",
        "                if m.bias is not None:\n",
        "                    nn.init.constant_(m.bias, 0)\n",
        "            elif isinstance(m, nn.BatchNorm2d):\n",
        "                nn.init.constant_(m.weight, 1)\n",
        "                nn.init.constant_(m.bias, 0)\n",
        "            elif isinstance(m, nn.Linear):\n",
        "                nn.init.xavier_uniform_(m.weight, gain=1)\n",
        "                nn.init.constant_(m.bias, 0)\n",
        "\n",
        "    def forward(self, x):\n",
        "        return self.layers(x)"
      ],
      "metadata": {
        "id": "JB-KhD0pjBTe"
      },
      "execution_count": 21,
      "outputs": []
    },
    {
      "cell_type": "code",
      "source": [
        "class DeepConvNet(nn.Module):\n",
        "    def __init__(self, in_channels = 62, n_classes = 2, conv_stride = 1, batch_norm_alpha=0.1, drop_prob=0.5):\n",
        "        super().__init__()\n",
        "\n",
        "        self.layers = nn.Sequential(\n",
        "            # Conv Pool Block 1\n",
        "            nn.Conv2d(1, 25, (8, 1)),\n",
        "            nn.Conv2d(25, 25, (1, in_channels), stride=(conv_stride, 1), bias=False),\n",
        "            nn.BatchNorm2d(25, momentum=batch_norm_alpha, affine=True, eps=1e-5,),\n",
        "            nn.ELU(),\n",
        "            nn.MaxPool2d((3, 1), stride=(2, 1)),\n",
        "\n",
        "            # Conv Pool Block 2\n",
        "            nn.Dropout(p=drop_prob),\n",
        "            nn.Conv2d(25, 50, (8, 1), bias=False),\n",
        "            nn.BatchNorm2d(50, momentum=batch_norm_alpha),\n",
        "            nn.ELU(),\n",
        "            nn.MaxPool2d((3, 1), stride=(1, 1)),\n",
        "\n",
        "            # Conv Pool Block 3\n",
        "            nn.Dropout(p=drop_prob),\n",
        "            nn.Conv2d(50, 100, (8, 1), bias=False),\n",
        "            nn.BatchNorm2d(100, momentum=batch_norm_alpha),\n",
        "            nn.ELU(),\n",
        "            nn.MaxPool2d((3, 1), stride=(1, 1)),\n",
        "\n",
        "            # Conv Pool Block 4\n",
        "            nn.Dropout(p=drop_prob),\n",
        "            nn.Conv2d(100, 200, (4, 1), bias=False),\n",
        "            nn.BatchNorm2d(200, momentum=batch_norm_alpha),\n",
        "            nn.ELU(),\n",
        "            nn.MaxPool2d((3, 1), stride=(1, 1)),\n",
        "\n",
        "            # Classification Layer\n",
        "            nn.Conv2d(200, n_classes, (23,1), bias=True),\n",
        "            nn.Flatten(),\n",
        "            nn.LogSoftmax(dim=1)\n",
        "        )\n",
        "\n",
        "        self._init_weights()\n",
        "\n",
        "    def _init_weights(self):\n",
        "        for m in self.modules():\n",
        "            if isinstance(m, nn.Conv2d):\n",
        "                nn.init.xavier_uniform_(m.weight, gain=1)\n",
        "                if m.bias is not None:\n",
        "                    nn.init.constant_(m.bias, 0)\n",
        "            elif isinstance(m, nn.BatchNorm2d):\n",
        "                nn.init.constant_(m.weight, 1)\n",
        "                nn.init.constant_(m.bias, 0)\n",
        "            elif isinstance(m, nn.Linear):\n",
        "                nn.init.xavier_uniform_(m.weight, gain=1)\n",
        "                nn.init.constant_(m.bias, 0)\n",
        "\n",
        "    def forward(self, x):\n",
        "        return self.layers(x)"
      ],
      "metadata": {
        "id": "m18BbnvZ_i40"
      },
      "execution_count": 35,
      "outputs": []
    },
    {
      "cell_type": "code",
      "source": [
        "model = DeepConvNet(62, 2).to(DEVICE)\n",
        "summary(model, (1,100,62))"
      ],
      "metadata": {
        "id": "EeYZa9PPvg6P",
        "outputId": "03930725-4428-4975-cb3b-75597c37e836",
        "colab": {
          "base_uri": "https://localhost:8080/"
        }
      },
      "execution_count": 36,
      "outputs": [
        {
          "output_type": "stream",
          "name": "stdout",
          "text": [
            "----------------------------------------------------------------\n",
            "        Layer (type)               Output Shape         Param #\n",
            "================================================================\n",
            "            Conv2d-1           [-1, 25, 93, 62]             225\n",
            "            Conv2d-2            [-1, 25, 93, 1]          38,750\n",
            "       BatchNorm2d-3            [-1, 25, 93, 1]              50\n",
            "               ELU-4            [-1, 25, 93, 1]               0\n",
            "         MaxPool2d-5            [-1, 25, 46, 1]               0\n",
            "           Dropout-6            [-1, 25, 46, 1]               0\n",
            "            Conv2d-7            [-1, 50, 39, 1]          10,000\n",
            "       BatchNorm2d-8            [-1, 50, 39, 1]             100\n",
            "               ELU-9            [-1, 50, 39, 1]               0\n",
            "        MaxPool2d-10            [-1, 50, 37, 1]               0\n",
            "          Dropout-11            [-1, 50, 37, 1]               0\n",
            "           Conv2d-12           [-1, 100, 30, 1]          40,000\n",
            "      BatchNorm2d-13           [-1, 100, 30, 1]             200\n",
            "              ELU-14           [-1, 100, 30, 1]               0\n",
            "        MaxPool2d-15           [-1, 100, 28, 1]               0\n",
            "          Dropout-16           [-1, 100, 28, 1]               0\n",
            "           Conv2d-17           [-1, 200, 25, 1]          80,000\n",
            "      BatchNorm2d-18           [-1, 200, 25, 1]             400\n",
            "              ELU-19           [-1, 200, 25, 1]               0\n",
            "        MaxPool2d-20           [-1, 200, 23, 1]               0\n",
            "           Conv2d-21              [-1, 2, 1, 1]           9,202\n",
            "          Flatten-22                    [-1, 2]               0\n",
            "       LogSoftmax-23                    [-1, 2]               0\n",
            "================================================================\n",
            "Total params: 178,927\n",
            "Trainable params: 178,927\n",
            "Non-trainable params: 0\n",
            "----------------------------------------------------------------\n",
            "Input size (MB): 0.02\n",
            "Forward/backward pass size (MB): 1.50\n",
            "Params size (MB): 0.68\n",
            "Estimated Total Size (MB): 2.21\n",
            "----------------------------------------------------------------\n"
          ]
        }
      ]
    },
    {
      "cell_type": "code",
      "source": [
        "criterion = torch.nn.NLLLoss()\n",
        "# optimizer = torch.optim.SGD(model.parameters(), lr=config['lr'], momentum=config['momentum'], weight_decay=config['weight_decay'])\n",
        "optimizer = torch.optim.AdamW(model.parameters(), lr=0.01, weight_decay=0.001)\n",
        "# scheduler = torch.optim.lr_scheduler.CosineAnnealingLR(\n",
        "#         optimizer=optimizer,\n",
        "#         T_max = config['epochs']\n",
        "# )\n",
        "# scaler = torch.cuda.amp.GradScaler()"
      ],
      "metadata": {
        "id": "FWGMFbGDo30g"
      },
      "execution_count": 37,
      "outputs": []
    },
    {
      "cell_type": "code",
      "source": [
        "config = {\n",
        "    'epochs'        : 30,\n",
        "    'batch_size'    : 8,\n",
        "    'lr'            : 0.01, # 0.1 for SGD, 5e-4 for adamW\n",
        "    'patience'      : 2,\n",
        "    'lr_decay'      : 0.1,\n",
        "    'weight_decay'  : 0.001,\n",
        "    'momentum'      : 0.9,\n",
        "    'nesterov'      : True,\n",
        "    'drop_rate'     : 0.25,\n",
        "    'label_smooth'  : 0.1,\n",
        "    'drop_path'     : 0.1\n",
        "}"
      ],
      "metadata": {
        "id": "pj1Nr1hSq-Vn"
      },
      "execution_count": 38,
      "outputs": []
    },
    {
      "cell_type": "code",
      "source": [
        "def train(model, dataloader, optimizer, criterion):\n",
        "    \n",
        "    model.train()\n",
        "\n",
        "    # Progress Bar \n",
        "    batch_bar   = tqdm(total=len(dataloader), dynamic_ncols=True, leave=False, position=0, desc='Train', ncols=5) \n",
        "\n",
        "    num_correct = 0\n",
        "    total_loss  = 0\n",
        "\n",
        "    for i, (images, labels) in enumerate(dataloader):\n",
        "        \n",
        "        optimizer.zero_grad() # Zero gradients\n",
        "\n",
        "        images, labels = images.to(DEVICE), labels.to(DEVICE)\n",
        "        \n",
        "        with torch.cuda.amp.autocast(): # This implements mixed precision. Thats it! \n",
        "            outputs = model(images)\n",
        "            loss    = criterion(outputs, labels)\n",
        "\n",
        "        # Update no. of correct predictions & loss as we iterate\n",
        "        num_correct     += int((torch.argmax(outputs, axis=1) == labels).sum())\n",
        "        total_loss      += float(loss.item())\n",
        "\n",
        "        # tqdm lets you add some details so you can monitor training as you train.\n",
        "        batch_bar.set_postfix(\n",
        "            acc         = \"{:.04f}%\".format(100 * num_correct / (config['batch_size']*(i + 1))),\n",
        "            loss        = \"{:.04f}\".format(float(total_loss / (i + 1))),\n",
        "            num_correct = num_correct,\n",
        "            lr          = \"{:.04f}\".format(float(optimizer.param_groups[0]['lr']))\n",
        "        )\n",
        "        \n",
        "        loss.backward()\n",
        "        optimizer.step()\n",
        "        # scaler.scale(loss).backward() # This is a replacement for loss.backward()\n",
        "        # scaler.step(optimizer) # This is a replacement for optimizer.step()\n",
        "        # scaler.update() \n",
        "\n",
        "        # TODO? Depending on your choice of scheduler,\n",
        "        # You may want to call some schdulers inside the train function. What are these?\n",
        "      \n",
        "        batch_bar.update() # Update tqdm bar\n",
        "\n",
        "    batch_bar.close() # You need this to close the tqdm bar\n",
        "\n",
        "    acc         = 100 * num_correct / (config['batch_size']* len(dataloader))\n",
        "    total_loss  = float(total_loss / len(dataloader))\n",
        "\n",
        "    return acc, total_loss"
      ],
      "metadata": {
        "id": "8J-syr3OqvE-"
      },
      "execution_count": 39,
      "outputs": []
    },
    {
      "cell_type": "code",
      "source": [
        "def validate(model, dataloader, criterion):\n",
        "  \n",
        "    model.eval()\n",
        "    batch_bar = tqdm(total=len(dataloader), dynamic_ncols=True, position=0, leave=False, desc='Val', ncols=5)\n",
        "\n",
        "    num_correct = 0.0\n",
        "    total_loss = 0.0\n",
        "\n",
        "    for i, (images, labels) in enumerate(dataloader):\n",
        "        \n",
        "        # Move images to device\n",
        "        images, labels = images.to(DEVICE), labels.to(DEVICE)\n",
        "        \n",
        "        # Get model outputs\n",
        "        with torch.inference_mode():\n",
        "            outputs = model(images)\n",
        "            loss = criterion(outputs, labels)\n",
        "\n",
        "        num_correct += int((torch.argmax(outputs, axis=1) == labels).sum())\n",
        "        total_loss += float(loss.item())\n",
        "\n",
        "        batch_bar.set_postfix(\n",
        "            acc=\"{:.04f}%\".format(100 * num_correct / (config['batch_size']*(i + 1))),\n",
        "            loss=\"{:.04f}\".format(float(total_loss / (i + 1))),\n",
        "            num_correct=num_correct)\n",
        "\n",
        "        batch_bar.update()\n",
        "        \n",
        "    batch_bar.close()\n",
        "    acc = 100 * num_correct / (config['batch_size']* len(dataloader))\n",
        "    total_loss = float(total_loss / len(dataloader))\n",
        "    return acc, total_loss"
      ],
      "metadata": {
        "id": "zwRTMJpnqzY9"
      },
      "execution_count": 40,
      "outputs": []
    },
    {
      "cell_type": "code",
      "source": [
        "best_valacc = 0.0\n",
        "\n",
        "for epoch in range(config['epochs']):\n",
        "\n",
        "    curr_lr = float(optimizer.param_groups[0]['lr'])\n",
        "\n",
        "    # train_acc, train_loss = train(model, train_loader, optimizer, criterion)\n",
        "    train_acc, train_loss = train(model, train_loader, optimizer, criterion)\n",
        "    \n",
        "    print(\"\\nEpoch {}/{}: \\nTrain Acc {:.04f}%\\t Train Loss {:.04f}\\t Learning Rate {:.04f}\".format(\n",
        "        epoch + 1,\n",
        "        config['epochs'],\n",
        "        train_acc,\n",
        "        train_loss,\n",
        "        curr_lr))\n",
        "    \n",
        "    # val_acc, val_loss = validate(model, valid_loader, criterion)\n",
        "    val_acc, val_loss = validate(model, test_loader, criterion)\n",
        "    \n",
        "    print(\"Val Acc {:.04f}%\\t Val Loss {:.04f}\".format(val_acc, val_loss))\n",
        "\n",
        "    # wandb.log({\"train_loss\":train_loss, 'train_Acc': train_acc, 'validation_Acc':val_acc, \n",
        "    #            'validation_loss': val_loss, \"learning_Rate\": curr_lr})\n",
        "    \n",
        "    # If you are using a scheduler in your train function within your iteration loop, you may want to log\n",
        "    # your learning rate differently\n",
        "    # scheduler.step(val_loss)\n",
        "    # scheduler.step()\n",
        "\n",
        "    #Save model in drive location if val_acc is better than best recorded val_acc\n",
        "    # if val_acc >= best_valacc:\n",
        "    #   #path = os.path.join(root, model_directory, 'checkpoint' + '.pth')\n",
        "    #   print(\"Saving model\")\n",
        "    #   torch.save({'model_state_dict':arcfacemodel.model.state_dict(),\n",
        "    #               'optimizer_state_dict':optimizer.state_dict(),\n",
        "    #               'scheduler_state_dict':scheduler.state_dict(),\n",
        "    #               'val_acc': val_acc, \n",
        "    #               'epoch': epoch}, './checkpoint.pth')\n",
        "    #   best_valacc = val_acc\n",
        "    #   wandb.save('checkpoint.pth')\n",
        "      # You may find it interesting to exlplore Wandb Artifcats to version your models\n",
        "# run.finish()"
      ],
      "metadata": {
        "id": "3O6mNIZ1rVW6",
        "outputId": "30ed02c1-5321-4e28-e30a-2e23c5c97b13",
        "colab": {
          "base_uri": "https://localhost:8080/"
        }
      },
      "execution_count": 41,
      "outputs": [
        {
          "output_type": "stream",
          "name": "stderr",
          "text": [
            "Train:   0%|          | 0/32 [00:00<?, ?it/s]/usr/local/lib/python3.9/dist-packages/torch/amp/autocast_mode.py:202: UserWarning: User provided device_type of 'cuda', but CUDA is not available. Disabling\n",
            "  warnings.warn('User provided device_type of \\'cuda\\', but CUDA is not available. Disabling')\n"
          ]
        },
        {
          "output_type": "stream",
          "name": "stdout",
          "text": [
            "\n",
            "Epoch 1/30: \n",
            "Train Acc 50.3906%\t Train Loss 5.7002\t Learning Rate 0.0100\n"
          ]
        },
        {
          "output_type": "stream",
          "name": "stderr",
          "text": []
        },
        {
          "output_type": "stream",
          "name": "stdout",
          "text": [
            "Val Acc 49.2188%\t Val Loss 3.8469\n"
          ]
        },
        {
          "output_type": "stream",
          "name": "stderr",
          "text": []
        },
        {
          "output_type": "stream",
          "name": "stdout",
          "text": [
            "\n",
            "Epoch 2/30: \n",
            "Train Acc 46.4844%\t Train Loss 4.1330\t Learning Rate 0.0100\n"
          ]
        },
        {
          "output_type": "stream",
          "name": "stderr",
          "text": []
        },
        {
          "output_type": "stream",
          "name": "stdout",
          "text": [
            "Val Acc 53.9062%\t Val Loss 0.8297\n"
          ]
        },
        {
          "output_type": "stream",
          "name": "stderr",
          "text": []
        },
        {
          "output_type": "stream",
          "name": "stdout",
          "text": [
            "\n",
            "Epoch 3/30: \n",
            "Train Acc 46.4844%\t Train Loss 5.0315\t Learning Rate 0.0100\n"
          ]
        },
        {
          "output_type": "stream",
          "name": "stderr",
          "text": []
        },
        {
          "output_type": "stream",
          "name": "stdout",
          "text": [
            "Val Acc 48.4375%\t Val Loss 4.7177\n"
          ]
        },
        {
          "output_type": "stream",
          "name": "stderr",
          "text": []
        },
        {
          "output_type": "stream",
          "name": "stdout",
          "text": [
            "\n",
            "Epoch 4/30: \n",
            "Train Acc 50.7812%\t Train Loss 2.7434\t Learning Rate 0.0100\n"
          ]
        },
        {
          "output_type": "stream",
          "name": "stderr",
          "text": []
        },
        {
          "output_type": "stream",
          "name": "stdout",
          "text": [
            "Val Acc 53.9062%\t Val Loss 1.6392\n"
          ]
        },
        {
          "output_type": "stream",
          "name": "stderr",
          "text": []
        },
        {
          "output_type": "stream",
          "name": "stdout",
          "text": [
            "\n",
            "Epoch 5/30: \n",
            "Train Acc 47.6562%\t Train Loss 2.6032\t Learning Rate 0.0100\n"
          ]
        },
        {
          "output_type": "stream",
          "name": "stderr",
          "text": []
        },
        {
          "output_type": "stream",
          "name": "stdout",
          "text": [
            "Val Acc 50.0000%\t Val Loss 4.2988\n"
          ]
        },
        {
          "output_type": "stream",
          "name": "stderr",
          "text": []
        },
        {
          "output_type": "stream",
          "name": "stdout",
          "text": [
            "\n",
            "Epoch 6/30: \n",
            "Train Acc 54.6875%\t Train Loss 2.3075\t Learning Rate 0.0100\n"
          ]
        },
        {
          "output_type": "stream",
          "name": "stderr",
          "text": []
        },
        {
          "output_type": "stream",
          "name": "stdout",
          "text": [
            "Val Acc 48.4375%\t Val Loss 1.0650\n"
          ]
        },
        {
          "output_type": "stream",
          "name": "stderr",
          "text": []
        },
        {
          "output_type": "stream",
          "name": "stdout",
          "text": [
            "\n",
            "Epoch 7/30: \n",
            "Train Acc 50.7812%\t Train Loss 1.5489\t Learning Rate 0.0100\n"
          ]
        },
        {
          "output_type": "stream",
          "name": "stderr",
          "text": []
        },
        {
          "output_type": "stream",
          "name": "stdout",
          "text": [
            "Val Acc 48.4375%\t Val Loss 0.9688\n"
          ]
        },
        {
          "output_type": "stream",
          "name": "stderr",
          "text": []
        },
        {
          "output_type": "stream",
          "name": "stdout",
          "text": [
            "\n",
            "Epoch 8/30: \n",
            "Train Acc 50.0000%\t Train Loss 1.1909\t Learning Rate 0.0100\n"
          ]
        },
        {
          "output_type": "stream",
          "name": "stderr",
          "text": []
        },
        {
          "output_type": "stream",
          "name": "stdout",
          "text": [
            "Val Acc 57.8125%\t Val Loss 0.7049\n"
          ]
        },
        {
          "output_type": "stream",
          "name": "stderr",
          "text": []
        },
        {
          "output_type": "stream",
          "name": "stdout",
          "text": [
            "\n",
            "Epoch 9/30: \n",
            "Train Acc 53.9062%\t Train Loss 1.0783\t Learning Rate 0.0100\n"
          ]
        },
        {
          "output_type": "stream",
          "name": "stderr",
          "text": []
        },
        {
          "output_type": "stream",
          "name": "stdout",
          "text": [
            "Val Acc 53.1250%\t Val Loss 0.6855\n"
          ]
        },
        {
          "output_type": "stream",
          "name": "stderr",
          "text": []
        },
        {
          "output_type": "stream",
          "name": "stdout",
          "text": [
            "\n",
            "Epoch 10/30: \n",
            "Train Acc 55.0781%\t Train Loss 1.2069\t Learning Rate 0.0100\n"
          ]
        },
        {
          "output_type": "stream",
          "name": "stderr",
          "text": []
        },
        {
          "output_type": "stream",
          "name": "stdout",
          "text": [
            "Val Acc 56.2500%\t Val Loss 0.8132\n"
          ]
        },
        {
          "output_type": "stream",
          "name": "stderr",
          "text": []
        },
        {
          "output_type": "stream",
          "name": "stdout",
          "text": [
            "\n",
            "Epoch 11/30: \n",
            "Train Acc 57.4219%\t Train Loss 1.2457\t Learning Rate 0.0100\n"
          ]
        },
        {
          "output_type": "stream",
          "name": "stderr",
          "text": []
        },
        {
          "output_type": "stream",
          "name": "stdout",
          "text": [
            "Val Acc 54.6875%\t Val Loss 0.7796\n"
          ]
        },
        {
          "output_type": "stream",
          "name": "stderr",
          "text": []
        },
        {
          "output_type": "stream",
          "name": "stdout",
          "text": [
            "\n",
            "Epoch 12/30: \n",
            "Train Acc 48.8281%\t Train Loss 1.6505\t Learning Rate 0.0100\n"
          ]
        },
        {
          "output_type": "stream",
          "name": "stderr",
          "text": []
        },
        {
          "output_type": "stream",
          "name": "stdout",
          "text": [
            "Val Acc 53.1250%\t Val Loss 0.7869\n"
          ]
        },
        {
          "output_type": "stream",
          "name": "stderr",
          "text": []
        },
        {
          "output_type": "stream",
          "name": "stdout",
          "text": [
            "\n",
            "Epoch 13/30: \n",
            "Train Acc 55.4688%\t Train Loss 1.2819\t Learning Rate 0.0100\n"
          ]
        },
        {
          "output_type": "stream",
          "name": "stderr",
          "text": []
        },
        {
          "output_type": "stream",
          "name": "stdout",
          "text": [
            "Val Acc 51.5625%\t Val Loss 0.8014\n"
          ]
        },
        {
          "output_type": "stream",
          "name": "stderr",
          "text": []
        },
        {
          "output_type": "stream",
          "name": "stdout",
          "text": [
            "\n",
            "Epoch 14/30: \n",
            "Train Acc 53.5156%\t Train Loss 0.9993\t Learning Rate 0.0100\n"
          ]
        },
        {
          "output_type": "stream",
          "name": "stderr",
          "text": []
        },
        {
          "output_type": "stream",
          "name": "stdout",
          "text": [
            "Val Acc 51.5625%\t Val Loss 0.7116\n"
          ]
        },
        {
          "output_type": "stream",
          "name": "stderr",
          "text": []
        },
        {
          "output_type": "stream",
          "name": "stdout",
          "text": [
            "\n",
            "Epoch 15/30: \n",
            "Train Acc 57.8125%\t Train Loss 0.7690\t Learning Rate 0.0100\n"
          ]
        },
        {
          "output_type": "stream",
          "name": "stderr",
          "text": []
        },
        {
          "output_type": "stream",
          "name": "stdout",
          "text": [
            "Val Acc 53.9062%\t Val Loss 0.7045\n"
          ]
        },
        {
          "output_type": "stream",
          "name": "stderr",
          "text": []
        },
        {
          "output_type": "stream",
          "name": "stdout",
          "text": [
            "\n",
            "Epoch 16/30: \n",
            "Train Acc 51.5625%\t Train Loss 1.0196\t Learning Rate 0.0100\n"
          ]
        },
        {
          "output_type": "stream",
          "name": "stderr",
          "text": []
        },
        {
          "output_type": "stream",
          "name": "stdout",
          "text": [
            "Val Acc 49.2188%\t Val Loss 0.7424\n"
          ]
        },
        {
          "output_type": "stream",
          "name": "stderr",
          "text": []
        },
        {
          "output_type": "stream",
          "name": "stdout",
          "text": [
            "\n",
            "Epoch 17/30: \n",
            "Train Acc 56.6406%\t Train Loss 0.8011\t Learning Rate 0.0100\n"
          ]
        },
        {
          "output_type": "stream",
          "name": "stderr",
          "text": []
        },
        {
          "output_type": "stream",
          "name": "stdout",
          "text": [
            "Val Acc 62.5000%\t Val Loss 0.6936\n"
          ]
        },
        {
          "output_type": "stream",
          "name": "stderr",
          "text": []
        },
        {
          "output_type": "stream",
          "name": "stdout",
          "text": [
            "\n",
            "Epoch 18/30: \n",
            "Train Acc 58.5938%\t Train Loss 0.7392\t Learning Rate 0.0100\n"
          ]
        },
        {
          "output_type": "stream",
          "name": "stderr",
          "text": []
        },
        {
          "output_type": "stream",
          "name": "stdout",
          "text": [
            "Val Acc 60.9375%\t Val Loss 0.6679\n"
          ]
        },
        {
          "output_type": "stream",
          "name": "stderr",
          "text": []
        },
        {
          "output_type": "stream",
          "name": "stdout",
          "text": [
            "\n",
            "Epoch 19/30: \n",
            "Train Acc 62.5000%\t Train Loss 0.7526\t Learning Rate 0.0100\n"
          ]
        },
        {
          "output_type": "stream",
          "name": "stderr",
          "text": []
        },
        {
          "output_type": "stream",
          "name": "stdout",
          "text": [
            "Val Acc 59.3750%\t Val Loss 0.7057\n"
          ]
        },
        {
          "output_type": "stream",
          "name": "stderr",
          "text": []
        },
        {
          "output_type": "stream",
          "name": "stdout",
          "text": [
            "\n",
            "Epoch 20/30: \n",
            "Train Acc 64.0625%\t Train Loss 0.7792\t Learning Rate 0.0100\n"
          ]
        },
        {
          "output_type": "stream",
          "name": "stderr",
          "text": []
        },
        {
          "output_type": "stream",
          "name": "stdout",
          "text": [
            "Val Acc 51.5625%\t Val Loss 0.6861\n"
          ]
        },
        {
          "output_type": "stream",
          "name": "stderr",
          "text": []
        },
        {
          "output_type": "stream",
          "name": "stdout",
          "text": [
            "\n",
            "Epoch 21/30: \n",
            "Train Acc 63.6719%\t Train Loss 0.6595\t Learning Rate 0.0100\n"
          ]
        },
        {
          "output_type": "stream",
          "name": "stderr",
          "text": []
        },
        {
          "output_type": "stream",
          "name": "stdout",
          "text": [
            "Val Acc 60.1562%\t Val Loss 0.6885\n"
          ]
        },
        {
          "output_type": "stream",
          "name": "stderr",
          "text": []
        },
        {
          "output_type": "stream",
          "name": "stdout",
          "text": [
            "\n",
            "Epoch 22/30: \n",
            "Train Acc 66.0156%\t Train Loss 0.6244\t Learning Rate 0.0100\n"
          ]
        },
        {
          "output_type": "stream",
          "name": "stderr",
          "text": []
        },
        {
          "output_type": "stream",
          "name": "stdout",
          "text": [
            "Val Acc 53.9062%\t Val Loss 0.6870\n"
          ]
        },
        {
          "output_type": "stream",
          "name": "stderr",
          "text": []
        },
        {
          "output_type": "stream",
          "name": "stdout",
          "text": [
            "\n",
            "Epoch 23/30: \n",
            "Train Acc 67.1875%\t Train Loss 0.6170\t Learning Rate 0.0100\n"
          ]
        },
        {
          "output_type": "stream",
          "name": "stderr",
          "text": []
        },
        {
          "output_type": "stream",
          "name": "stdout",
          "text": [
            "Val Acc 56.2500%\t Val Loss 0.6919\n"
          ]
        },
        {
          "output_type": "stream",
          "name": "stderr",
          "text": []
        },
        {
          "output_type": "stream",
          "name": "stdout",
          "text": [
            "\n",
            "Epoch 24/30: \n",
            "Train Acc 64.4531%\t Train Loss 0.6498\t Learning Rate 0.0100\n"
          ]
        },
        {
          "output_type": "stream",
          "name": "stderr",
          "text": []
        },
        {
          "output_type": "stream",
          "name": "stdout",
          "text": [
            "Val Acc 61.7188%\t Val Loss 0.6731\n"
          ]
        },
        {
          "output_type": "stream",
          "name": "stderr",
          "text": []
        },
        {
          "output_type": "stream",
          "name": "stdout",
          "text": [
            "\n",
            "Epoch 25/30: \n",
            "Train Acc 70.3125%\t Train Loss 0.6381\t Learning Rate 0.0100\n"
          ]
        },
        {
          "output_type": "stream",
          "name": "stderr",
          "text": []
        },
        {
          "output_type": "stream",
          "name": "stdout",
          "text": [
            "Val Acc 50.7812%\t Val Loss 0.7614\n"
          ]
        },
        {
          "output_type": "stream",
          "name": "stderr",
          "text": []
        },
        {
          "output_type": "stream",
          "name": "stdout",
          "text": [
            "\n",
            "Epoch 26/30: \n",
            "Train Acc 62.1094%\t Train Loss 0.6085\t Learning Rate 0.0100\n"
          ]
        },
        {
          "output_type": "stream",
          "name": "stderr",
          "text": []
        },
        {
          "output_type": "stream",
          "name": "stdout",
          "text": [
            "Val Acc 60.1562%\t Val Loss 0.6858\n"
          ]
        },
        {
          "output_type": "stream",
          "name": "stderr",
          "text": []
        },
        {
          "output_type": "stream",
          "name": "stdout",
          "text": [
            "\n",
            "Epoch 27/30: \n",
            "Train Acc 67.9688%\t Train Loss 0.5816\t Learning Rate 0.0100\n"
          ]
        },
        {
          "output_type": "stream",
          "name": "stderr",
          "text": []
        },
        {
          "output_type": "stream",
          "name": "stdout",
          "text": [
            "Val Acc 61.7188%\t Val Loss 0.6699\n"
          ]
        },
        {
          "output_type": "stream",
          "name": "stderr",
          "text": []
        },
        {
          "output_type": "stream",
          "name": "stdout",
          "text": [
            "\n",
            "Epoch 28/30: \n",
            "Train Acc 68.3594%\t Train Loss 0.6097\t Learning Rate 0.0100\n"
          ]
        },
        {
          "output_type": "stream",
          "name": "stderr",
          "text": []
        },
        {
          "output_type": "stream",
          "name": "stdout",
          "text": [
            "Val Acc 57.8125%\t Val Loss 0.6777\n"
          ]
        },
        {
          "output_type": "stream",
          "name": "stderr",
          "text": []
        },
        {
          "output_type": "stream",
          "name": "stdout",
          "text": [
            "\n",
            "Epoch 29/30: \n",
            "Train Acc 66.0156%\t Train Loss 0.5941\t Learning Rate 0.0100\n"
          ]
        },
        {
          "output_type": "stream",
          "name": "stderr",
          "text": []
        },
        {
          "output_type": "stream",
          "name": "stdout",
          "text": [
            "Val Acc 46.8750%\t Val Loss 0.8347\n"
          ]
        },
        {
          "output_type": "stream",
          "name": "stderr",
          "text": []
        },
        {
          "output_type": "stream",
          "name": "stdout",
          "text": [
            "\n",
            "Epoch 30/30: \n",
            "Train Acc 66.4062%\t Train Loss 0.5879\t Learning Rate 0.0100\n"
          ]
        },
        {
          "output_type": "stream",
          "name": "stderr",
          "text": [
            "                                                                                               "
          ]
        },
        {
          "output_type": "stream",
          "name": "stdout",
          "text": [
            "Val Acc 52.3438%\t Val Loss 0.7640\n"
          ]
        },
        {
          "output_type": "stream",
          "name": "stderr",
          "text": [
            "\r"
          ]
        }
      ]
    }
  ]
}